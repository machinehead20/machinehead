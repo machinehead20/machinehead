{
 "cells": [
  {
   "cell_type": "code",
   "execution_count": 1,
   "metadata": {},
   "outputs": [],
   "source": [
    "import pandas as pd\n",
    "import numpy as np\n",
    "import sqlite3\n",
    "from sqlalchemy import create_engine"
   ]
  },
  {
   "cell_type": "code",
   "execution_count": 2,
   "metadata": {},
   "outputs": [],
   "source": [
    "db_path = '../data/raw/machinehead20.db'"
   ]
  },
  {
   "cell_type": "code",
   "execution_count": 3,
   "metadata": {},
   "outputs": [],
   "source": [
    "db_engine = create_engine(f'sqlite:///{db_path}')"
   ]
  },
  {
   "cell_type": "code",
   "execution_count": 4,
   "metadata": {},
   "outputs": [],
   "source": [
    "def table_to_df(table_name):\n",
    "    df = pd.read_sql_query(f'SELECT * FROM {table_name}', db_engine)\n",
    "    return df"
   ]
  },
  {
   "cell_type": "code",
   "execution_count": 5,
   "metadata": {},
   "outputs": [],
   "source": [
    "df_business_info = table_to_df('business_info')"
   ]
  },
  {
   "cell_type": "code",
   "execution_count": 6,
   "metadata": {},
   "outputs": [],
   "source": [
    "def sorting_values(df,column):\n",
    "    df = df.sort_values(by=[f'{column}'])\n",
    "    return df"
   ]
  },
  {
   "cell_type": "code",
   "execution_count": 8,
   "metadata": {},
   "outputs": [],
   "source": [
    "df_business_info = sorting_values(df_business_info,'realTimePosition')"
   ]
  },
  {
   "cell_type": "code",
   "execution_count": 9,
   "metadata": {},
   "outputs": [
    {
     "data": {
      "text/html": [
       "<div>\n",
       "<style scoped>\n",
       "    .dataframe tbody tr th:only-of-type {\n",
       "        vertical-align: middle;\n",
       "    }\n",
       "\n",
       "    .dataframe tbody tr th {\n",
       "        vertical-align: top;\n",
       "    }\n",
       "\n",
       "    .dataframe thead th {\n",
       "        text-align: right;\n",
       "    }\n",
       "</style>\n",
       "<table border=\"1\" class=\"dataframe\">\n",
       "  <thead>\n",
       "    <tr style=\"text-align: right;\">\n",
       "      <th></th>\n",
       "      <th>id</th>\n",
       "      <th>Unnamed: 0</th>\n",
       "      <th>Source</th>\n",
       "      <th>worth</th>\n",
       "      <th>worthChange</th>\n",
       "      <th>realTimeWorth</th>\n",
       "      <th>realTimePosition</th>\n",
       "    </tr>\n",
       "  </thead>\n",
       "  <tbody>\n",
       "    <tr>\n",
       "      <th>0</th>\n",
       "      <td>8098</td>\n",
       "      <td>52</td>\n",
       "      <td>Technology  ==&gt; Amazon</td>\n",
       "      <td>112.0 BUSD</td>\n",
       "      <td>0.0 millions USD</td>\n",
       "      <td>None</td>\n",
       "      <td>1</td>\n",
       "    </tr>\n",
       "    <tr>\n",
       "      <th>1</th>\n",
       "      <td>3112</td>\n",
       "      <td>53</td>\n",
       "      <td>Technology  ==&gt; Microsoft</td>\n",
       "      <td>90.0 BUSD</td>\n",
       "      <td>-0.001 millions USD</td>\n",
       "      <td>None</td>\n",
       "      <td>2</td>\n",
       "    </tr>\n",
       "    <tr>\n",
       "      <th>2</th>\n",
       "      <td>7509</td>\n",
       "      <td>54</td>\n",
       "      <td>Finance and Investments  ==&gt; Berkshire Hathaway</td>\n",
       "      <td>84.0 BUSD</td>\n",
       "      <td>-0.002 millions USD</td>\n",
       "      <td>None</td>\n",
       "      <td>3</td>\n",
       "    </tr>\n",
       "    <tr>\n",
       "      <th>3</th>\n",
       "      <td>3270</td>\n",
       "      <td>55</td>\n",
       "      <td>Fashion &amp; Retail  ==&gt; LVMH</td>\n",
       "      <td>72.0 BUSD</td>\n",
       "      <td>0.0 millions USD</td>\n",
       "      <td>None</td>\n",
       "      <td>4</td>\n",
       "    </tr>\n",
       "    <tr>\n",
       "      <th>4</th>\n",
       "      <td>6859</td>\n",
       "      <td>56</td>\n",
       "      <td>Technology  ==&gt; Facebook</td>\n",
       "      <td>71.0 BUSD</td>\n",
       "      <td>0.0 millions USD</td>\n",
       "      <td>None</td>\n",
       "      <td>5</td>\n",
       "    </tr>\n",
       "    <tr>\n",
       "      <th>...</th>\n",
       "      <td>...</td>\n",
       "      <td>...</td>\n",
       "      <td>...</td>\n",
       "      <td>...</td>\n",
       "      <td>...</td>\n",
       "      <td>...</td>\n",
       "      <td>...</td>\n",
       "    </tr>\n",
       "    <tr>\n",
       "      <th>2155</th>\n",
       "      <td>1963</td>\n",
       "      <td>2207</td>\n",
       "      <td>Technology  ==&gt; mobile gaming</td>\n",
       "      <td>1.0 BUSD</td>\n",
       "      <td>nan millions USD</td>\n",
       "      <td>None</td>\n",
       "      <td>2151</td>\n",
       "    </tr>\n",
       "    <tr>\n",
       "      <th>2154</th>\n",
       "      <td>8489</td>\n",
       "      <td>2206</td>\n",
       "      <td>Manufacturing  ==&gt; antennas</td>\n",
       "      <td>1.0 BUSD</td>\n",
       "      <td>nan millions USD</td>\n",
       "      <td>None</td>\n",
       "      <td>2151</td>\n",
       "    </tr>\n",
       "    <tr>\n",
       "      <th>2136</th>\n",
       "      <td>1475</td>\n",
       "      <td>2188</td>\n",
       "      <td>Technology  ==&gt; Stripe</td>\n",
       "      <td>1.0 BUSD</td>\n",
       "      <td>0.0 millions USD</td>\n",
       "      <td>None</td>\n",
       "      <td>2152</td>\n",
       "    </tr>\n",
       "    <tr>\n",
       "      <th>2133</th>\n",
       "      <td>6035</td>\n",
       "      <td>2185</td>\n",
       "      <td>Metals &amp; Mining  ==&gt; metallurgy</td>\n",
       "      <td>1.0 BUSD</td>\n",
       "      <td>nan millions USD</td>\n",
       "      <td>None</td>\n",
       "      <td>2153</td>\n",
       "    </tr>\n",
       "    <tr>\n",
       "      <th>2132</th>\n",
       "      <td>6335</td>\n",
       "      <td>2184</td>\n",
       "      <td>Fashion &amp; Retail  ==&gt; Patagonia</td>\n",
       "      <td>1.0 BUSD</td>\n",
       "      <td>0.0 millions USD</td>\n",
       "      <td>None</td>\n",
       "      <td>2153</td>\n",
       "    </tr>\n",
       "  </tbody>\n",
       "</table>\n",
       "<p>2208 rows × 7 columns</p>\n",
       "</div>"
      ],
      "text/plain": [
       "        id  Unnamed: 0                                           Source  \\\n",
       "0     8098          52                           Technology  ==> Amazon   \n",
       "1     3112          53                        Technology  ==> Microsoft   \n",
       "2     7509          54  Finance and Investments  ==> Berkshire Hathaway   \n",
       "3     3270          55                       Fashion & Retail  ==> LVMH   \n",
       "4     6859          56                         Technology  ==> Facebook   \n",
       "...    ...         ...                                              ...   \n",
       "2155  1963        2207                    Technology  ==> mobile gaming   \n",
       "2154  8489        2206                      Manufacturing  ==> antennas   \n",
       "2136  1475        2188                           Technology  ==> Stripe   \n",
       "2133  6035        2185                  Metals & Mining  ==> metallurgy   \n",
       "2132  6335        2184                  Fashion & Retail  ==> Patagonia   \n",
       "\n",
       "           worth          worthChange realTimeWorth  realTimePosition  \n",
       "0     112.0 BUSD     0.0 millions USD          None                 1  \n",
       "1      90.0 BUSD  -0.001 millions USD          None                 2  \n",
       "2      84.0 BUSD  -0.002 millions USD          None                 3  \n",
       "3      72.0 BUSD     0.0 millions USD          None                 4  \n",
       "4      71.0 BUSD     0.0 millions USD          None                 5  \n",
       "...          ...                  ...           ...               ...  \n",
       "2155    1.0 BUSD     nan millions USD          None              2151  \n",
       "2154    1.0 BUSD     nan millions USD          None              2151  \n",
       "2136    1.0 BUSD     0.0 millions USD          None              2152  \n",
       "2133    1.0 BUSD     nan millions USD          None              2153  \n",
       "2132    1.0 BUSD     0.0 millions USD          None              2153  \n",
       "\n",
       "[2208 rows x 7 columns]"
      ]
     },
     "execution_count": 9,
     "metadata": {},
     "output_type": "execute_result"
    }
   ],
   "source": [
    "df_business_info"
   ]
  },
  {
   "cell_type": "code",
   "execution_count": 14,
   "metadata": {},
   "outputs": [],
   "source": [
    "def name_normalizer(df,column):\n",
    "    df = df[f'{column}'].str.title()\n",
    "    return df"
   ]
  },
  {
   "cell_type": "code",
   "execution_count": 16,
   "metadata": {},
   "outputs": [
    {
     "data": {
      "text/plain": [
       "0                                Technology  ==> Amazon\n",
       "1                             Technology  ==> Microsoft\n",
       "2       Finance And Investments  ==> Berkshire Hathaway\n",
       "3                            Fashion & Retail  ==> Lvmh\n",
       "4                              Technology  ==> Facebook\n",
       "                             ...                       \n",
       "2155                      Technology  ==> Mobile Gaming\n",
       "2154                        Manufacturing  ==> Antennas\n",
       "2136                             Technology  ==> Stripe\n",
       "2133                    Metals & Mining  ==> Metallurgy\n",
       "2132                    Fashion & Retail  ==> Patagonia\n",
       "Name: Source, Length: 2208, dtype: object"
      ]
     },
     "execution_count": 16,
     "metadata": {},
     "output_type": "execute_result"
    }
   ],
   "source": [
    "name_normalizer(df_business_info,'Source')"
   ]
  },
  {
   "cell_type": "code",
   "execution_count": 17,
   "metadata": {},
   "outputs": [
    {
     "data": {
      "text/html": [
       "<div>\n",
       "<style scoped>\n",
       "    .dataframe tbody tr th:only-of-type {\n",
       "        vertical-align: middle;\n",
       "    }\n",
       "\n",
       "    .dataframe tbody tr th {\n",
       "        vertical-align: top;\n",
       "    }\n",
       "\n",
       "    .dataframe thead th {\n",
       "        text-align: right;\n",
       "    }\n",
       "</style>\n",
       "<table border=\"1\" class=\"dataframe\">\n",
       "  <thead>\n",
       "    <tr style=\"text-align: right;\">\n",
       "      <th></th>\n",
       "      <th>id</th>\n",
       "      <th>Unnamed: 0</th>\n",
       "      <th>Source</th>\n",
       "      <th>worth</th>\n",
       "      <th>worthChange</th>\n",
       "      <th>realTimeWorth</th>\n",
       "      <th>realTimePosition</th>\n",
       "    </tr>\n",
       "  </thead>\n",
       "  <tbody>\n",
       "    <tr>\n",
       "      <th>0</th>\n",
       "      <td>8098</td>\n",
       "      <td>52</td>\n",
       "      <td>Technology  ==&gt; Amazon</td>\n",
       "      <td>112.0 BUSD</td>\n",
       "      <td>0.0 millions USD</td>\n",
       "      <td>None</td>\n",
       "      <td>1</td>\n",
       "    </tr>\n",
       "    <tr>\n",
       "      <th>1</th>\n",
       "      <td>3112</td>\n",
       "      <td>53</td>\n",
       "      <td>Technology  ==&gt; Microsoft</td>\n",
       "      <td>90.0 BUSD</td>\n",
       "      <td>-0.001 millions USD</td>\n",
       "      <td>None</td>\n",
       "      <td>2</td>\n",
       "    </tr>\n",
       "    <tr>\n",
       "      <th>2</th>\n",
       "      <td>7509</td>\n",
       "      <td>54</td>\n",
       "      <td>Finance and Investments  ==&gt; Berkshire Hathaway</td>\n",
       "      <td>84.0 BUSD</td>\n",
       "      <td>-0.002 millions USD</td>\n",
       "      <td>None</td>\n",
       "      <td>3</td>\n",
       "    </tr>\n",
       "    <tr>\n",
       "      <th>3</th>\n",
       "      <td>3270</td>\n",
       "      <td>55</td>\n",
       "      <td>Fashion &amp; Retail  ==&gt; LVMH</td>\n",
       "      <td>72.0 BUSD</td>\n",
       "      <td>0.0 millions USD</td>\n",
       "      <td>None</td>\n",
       "      <td>4</td>\n",
       "    </tr>\n",
       "    <tr>\n",
       "      <th>4</th>\n",
       "      <td>6859</td>\n",
       "      <td>56</td>\n",
       "      <td>Technology  ==&gt; Facebook</td>\n",
       "      <td>71.0 BUSD</td>\n",
       "      <td>0.0 millions USD</td>\n",
       "      <td>None</td>\n",
       "      <td>5</td>\n",
       "    </tr>\n",
       "    <tr>\n",
       "      <th>...</th>\n",
       "      <td>...</td>\n",
       "      <td>...</td>\n",
       "      <td>...</td>\n",
       "      <td>...</td>\n",
       "      <td>...</td>\n",
       "      <td>...</td>\n",
       "      <td>...</td>\n",
       "    </tr>\n",
       "    <tr>\n",
       "      <th>2155</th>\n",
       "      <td>1963</td>\n",
       "      <td>2207</td>\n",
       "      <td>Technology  ==&gt; mobile gaming</td>\n",
       "      <td>1.0 BUSD</td>\n",
       "      <td>nan millions USD</td>\n",
       "      <td>None</td>\n",
       "      <td>2151</td>\n",
       "    </tr>\n",
       "    <tr>\n",
       "      <th>2154</th>\n",
       "      <td>8489</td>\n",
       "      <td>2206</td>\n",
       "      <td>Manufacturing  ==&gt; antennas</td>\n",
       "      <td>1.0 BUSD</td>\n",
       "      <td>nan millions USD</td>\n",
       "      <td>None</td>\n",
       "      <td>2151</td>\n",
       "    </tr>\n",
       "    <tr>\n",
       "      <th>2136</th>\n",
       "      <td>1475</td>\n",
       "      <td>2188</td>\n",
       "      <td>Technology  ==&gt; Stripe</td>\n",
       "      <td>1.0 BUSD</td>\n",
       "      <td>0.0 millions USD</td>\n",
       "      <td>None</td>\n",
       "      <td>2152</td>\n",
       "    </tr>\n",
       "    <tr>\n",
       "      <th>2133</th>\n",
       "      <td>6035</td>\n",
       "      <td>2185</td>\n",
       "      <td>Metals &amp; Mining  ==&gt; metallurgy</td>\n",
       "      <td>1.0 BUSD</td>\n",
       "      <td>nan millions USD</td>\n",
       "      <td>None</td>\n",
       "      <td>2153</td>\n",
       "    </tr>\n",
       "    <tr>\n",
       "      <th>2132</th>\n",
       "      <td>6335</td>\n",
       "      <td>2184</td>\n",
       "      <td>Fashion &amp; Retail  ==&gt; Patagonia</td>\n",
       "      <td>1.0 BUSD</td>\n",
       "      <td>0.0 millions USD</td>\n",
       "      <td>None</td>\n",
       "      <td>2153</td>\n",
       "    </tr>\n",
       "  </tbody>\n",
       "</table>\n",
       "<p>2208 rows × 7 columns</p>\n",
       "</div>"
      ],
      "text/plain": [
       "        id  Unnamed: 0                                           Source  \\\n",
       "0     8098          52                           Technology  ==> Amazon   \n",
       "1     3112          53                        Technology  ==> Microsoft   \n",
       "2     7509          54  Finance and Investments  ==> Berkshire Hathaway   \n",
       "3     3270          55                       Fashion & Retail  ==> LVMH   \n",
       "4     6859          56                         Technology  ==> Facebook   \n",
       "...    ...         ...                                              ...   \n",
       "2155  1963        2207                    Technology  ==> mobile gaming   \n",
       "2154  8489        2206                      Manufacturing  ==> antennas   \n",
       "2136  1475        2188                           Technology  ==> Stripe   \n",
       "2133  6035        2185                  Metals & Mining  ==> metallurgy   \n",
       "2132  6335        2184                  Fashion & Retail  ==> Patagonia   \n",
       "\n",
       "           worth          worthChange realTimeWorth  realTimePosition  \n",
       "0     112.0 BUSD     0.0 millions USD          None                 1  \n",
       "1      90.0 BUSD  -0.001 millions USD          None                 2  \n",
       "2      84.0 BUSD  -0.002 millions USD          None                 3  \n",
       "3      72.0 BUSD     0.0 millions USD          None                 4  \n",
       "4      71.0 BUSD     0.0 millions USD          None                 5  \n",
       "...          ...                  ...           ...               ...  \n",
       "2155    1.0 BUSD     nan millions USD          None              2151  \n",
       "2154    1.0 BUSD     nan millions USD          None              2151  \n",
       "2136    1.0 BUSD     0.0 millions USD          None              2152  \n",
       "2133    1.0 BUSD     nan millions USD          None              2153  \n",
       "2132    1.0 BUSD     0.0 millions USD          None              2153  \n",
       "\n",
       "[2208 rows x 7 columns]"
      ]
     },
     "execution_count": 17,
     "metadata": {},
     "output_type": "execute_result"
    }
   ],
   "source": [
    "df_business_info"
   ]
  },
  {
   "cell_type": "code",
   "execution_count": null,
   "metadata": {},
   "outputs": [],
   "source": [
    "df_business_info = sorting_values(df_business_info,'realTimePosition')"
   ]
  },
  {
   "cell_type": "code",
   "execution_count": null,
   "metadata": {},
   "outputs": [],
   "source": [
    "df_business_info = name_normalizer(df_business_info,'Source')"
   ]
  },
  {
   "cell_type": "code",
   "execution_count": 27,
   "metadata": {},
   "outputs": [
    {
     "data": {
      "text/plain": [
       "0                                Technology  ==> Amazon\n",
       "1                             Technology  ==> Microsoft\n",
       "2       Finance And Investments  ==> Berkshire Hathaway\n",
       "3                            Fashion & Retail  ==> Lvmh\n",
       "4                              Technology  ==> Facebook\n",
       "                             ...                       \n",
       "2155                      Technology  ==> Mobile Gaming\n",
       "2154                        Manufacturing  ==> Antennas\n",
       "2136                             Technology  ==> Stripe\n",
       "2133                    Metals & Mining  ==> Metallurgy\n",
       "2132                    Fashion & Retail  ==> Patagonia\n",
       "Name: Source, Length: 2208, dtype: object"
      ]
     },
     "execution_count": 27,
     "metadata": {},
     "output_type": "execute_result"
    }
   ],
   "source": [
    "df_business_info"
   ]
  },
  {
   "cell_type": "code",
   "execution_count": null,
   "metadata": {},
   "outputs": [],
   "source": []
  },
  {
   "cell_type": "code",
   "execution_count": null,
   "metadata": {},
   "outputs": [],
   "source": []
  },
  {
   "cell_type": "code",
   "execution_count": null,
   "metadata": {},
   "outputs": [],
   "source": [
    "#null_count(df_business_info)"
   ]
  },
  {
   "cell_type": "code",
   "execution_count": null,
   "metadata": {},
   "outputs": [],
   "source": [
    "df_personal_info = table_to_df('personal_info')"
   ]
  },
  {
   "cell_type": "code",
   "execution_count": null,
   "metadata": {},
   "outputs": [],
   "source": [
    "null_count(df_personal_info)"
   ]
  },
  {
   "cell_type": "code",
   "execution_count": null,
   "metadata": {},
   "outputs": [],
   "source": [
    "df_personal_info"
   ]
  },
  {
   "cell_type": "code",
   "execution_count": null,
   "metadata": {},
   "outputs": [],
   "source": [
    "df_rank_info = table_to_df('rank_info')"
   ]
  },
  {
   "cell_type": "code",
   "execution_count": null,
   "metadata": {},
   "outputs": [],
   "source": [
    "df_rank_info"
   ]
  },
  {
   "cell_type": "code",
   "execution_count": null,
   "metadata": {},
   "outputs": [],
   "source": [
    "sorting_values(df_rank_info,'position')"
   ]
  },
  {
   "cell_type": "code",
   "execution_count": null,
   "metadata": {},
   "outputs": [],
   "source": [
    "null_count(df_rank_info)"
   ]
  },
  {
   "cell_type": "code",
   "execution_count": null,
   "metadata": {},
   "outputs": [],
   "source": [
    "#describe_df('business_info')"
   ]
  },
  {
   "cell_type": "code",
   "execution_count": null,
   "metadata": {},
   "outputs": [],
   "source": [
    "#describe_df('personal_info')"
   ]
  },
  {
   "cell_type": "code",
   "execution_count": null,
   "metadata": {},
   "outputs": [],
   "source": [
    "#describe_df('rank_info')"
   ]
  },
  {
   "cell_type": "code",
   "execution_count": null,
   "metadata": {},
   "outputs": [],
   "source": [
    "\n",
    "\n",
    "\n"
   ]
  },
  {
   "cell_type": "code",
   "execution_count": null,
   "metadata": {},
   "outputs": [],
   "source": []
  }
 ],
 "metadata": {
  "kernelspec": {
   "display_name": "Python 3",
   "language": "python",
   "name": "python3"
  },
  "language_info": {
   "codemirror_mode": {
    "name": "ipython",
    "version": 3
   },
   "file_extension": ".py",
   "mimetype": "text/x-python",
   "name": "python",
   "nbconvert_exporter": "python",
   "pygments_lexer": "ipython3",
   "version": "3.7.5"
  }
 },
 "nbformat": 4,
 "nbformat_minor": 2
}
