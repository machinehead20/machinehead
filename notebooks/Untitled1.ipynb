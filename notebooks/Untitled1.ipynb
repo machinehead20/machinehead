{
 "cells": [
  {
   "cell_type": "code",
   "execution_count": null,
   "metadata": {},
   "outputs": [],
   "source": [
    "# You call this function when you want to see one of the tables as a Panda's dataframe\n",
    "def table_to_df(table_name):\n",
    "    df = pd.read_sql_query(f'SELECT * FROM {table_name}', db_engine)\n",
    "    return df\n",
    "\n",
    "# This function generally describes the dataframe\n",
    "def describe_df(table_name):\n",
    "    description = table_to_df(table_name).describe()\n",
    "    return description\n",
    "\n",
    "# This counts nulls\n",
    "def null_count(table_name):\n",
    "    return table_name.isnull().sum()\n",
    "\n",
    "# This converts the columns of a dataframe to a list of them\n",
    "def list_of_columns(table_name):\n",
    "    return table_name.columns.to_list()\n",
    "\n",
    "# This sorts values of a dataframe by x column\n",
    "def sorting_values(table_name,column):\n",
    "    table_name = table_name.sort_values(by=[f'{column}'])\n",
    "    return table_name\n",
    "\n",
    "# This modifies values of a column with 'title' method\n",
    "def name_normalizer(table_name,column):\n",
    "    table_name = table_name[f'{column}'].str.title()\n",
    "    return table_name"
   ]
  }
 ],
 "metadata": {
  "kernelspec": {
   "display_name": "Python 3",
   "language": "python",
   "name": "python3"
  },
  "language_info": {
   "codemirror_mode": {
    "name": "ipython",
    "version": 3
   },
   "file_extension": ".py",
   "mimetype": "text/x-python",
   "name": "python",
   "nbconvert_exporter": "python",
   "pygments_lexer": "ipython3",
   "version": "3.7.5"
  }
 },
 "nbformat": 4,
 "nbformat_minor": 2
}
